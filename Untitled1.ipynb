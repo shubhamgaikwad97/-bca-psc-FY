{
 "cells": [
  {
   "cell_type": "code",
   "execution_count": 2,
   "id": "402ce683-8f9e-402a-935f-668825aab373",
   "metadata": {},
   "outputs": [],
   "source": [
    "name = \"Shubham\""
   ]
  },
  {
   "cell_type": "code",
   "execution_count": 3,
   "id": "6db76d7e-67f2-4d01-a829-586546a4ff43",
   "metadata": {},
   "outputs": [
    {
     "data": {
      "text/plain": [
       "'Shubham'"
      ]
     },
     "execution_count": 3,
     "metadata": {},
     "output_type": "execute_result"
    }
   ],
   "source": [
    "name"
   ]
  },
  {
   "cell_type": "code",
   "execution_count": 4,
   "id": "5f71392d-4b22-43bd-9aaf-4277edba8607",
   "metadata": {},
   "outputs": [
    {
     "data": {
      "text/plain": [
       "str"
      ]
     },
     "execution_count": 4,
     "metadata": {},
     "output_type": "execute_result"
    }
   ],
   "source": [
    "type(name)"
   ]
  },
  {
   "cell_type": "code",
   "execution_count": 5,
   "id": "b197bdef-1683-40a5-8631-8b2c2435eaa2",
   "metadata": {},
   "outputs": [],
   "source": [
    "a = 2"
   ]
  },
  {
   "cell_type": "code",
   "execution_count": 6,
   "id": "7c546634-1bce-4bae-8ed0-edf321545bbe",
   "metadata": {},
   "outputs": [
    {
     "data": {
      "text/plain": [
       "int"
      ]
     },
     "execution_count": 6,
     "metadata": {},
     "output_type": "execute_result"
    }
   ],
   "source": [
    "type (a)"
   ]
  },
  {
   "cell_type": "code",
   "execution_count": 7,
   "id": "99685e0f-8ccd-40a9-940b-a0f3a175289b",
   "metadata": {},
   "outputs": [],
   "source": [
    "a =  5.8889"
   ]
  },
  {
   "cell_type": "code",
   "execution_count": 8,
   "id": "6e4e619e-32af-4fec-8ec1-05d1dc82b77e",
   "metadata": {},
   "outputs": [
    {
     "data": {
      "text/plain": [
       "float"
      ]
     },
     "execution_count": 8,
     "metadata": {},
     "output_type": "execute_result"
    }
   ],
   "source": [
    "type(a)"
   ]
  },
  {
   "cell_type": "code",
   "execution_count": 10,
   "id": "0660a7ae-4325-461c-a90b-01d90289ccd8",
   "metadata": {},
   "outputs": [],
   "source": [
    "a = 8956478.385756"
   ]
  },
  {
   "cell_type": "code",
   "execution_count": 11,
   "id": "862cbae5-c41d-4f84-a7bc-bf9c9ffcd0b4",
   "metadata": {},
   "outputs": [
    {
     "data": {
      "text/plain": [
       "float"
      ]
     },
     "execution_count": 11,
     "metadata": {},
     "output_type": "execute_result"
    }
   ],
   "source": [
    "type (a)"
   ]
  },
  {
   "cell_type": "code",
   "execution_count": 37,
   "id": "144bf421-4099-48fb-9551-a760f5117234",
   "metadata": {},
   "outputs": [],
   "source": [
    "a = 7+8j"
   ]
  },
  {
   "cell_type": "code",
   "execution_count": 20,
   "id": "f84a027e-140b-455a-a33a-2690d3fbf459",
   "metadata": {},
   "outputs": [
    {
     "data": {
      "text/plain": [
       "(7+8j)"
      ]
     },
     "execution_count": 20,
     "metadata": {},
     "output_type": "execute_result"
    }
   ],
   "source": [
    "a "
   ]
  },
  {
   "cell_type": "code",
   "execution_count": 21,
   "id": "b4def98a-f9cc-4b38-bd0c-57d0ba524355",
   "metadata": {},
   "outputs": [
    {
     "data": {
      "text/plain": [
       "complex"
      ]
     },
     "execution_count": 21,
     "metadata": {},
     "output_type": "execute_result"
    }
   ],
   "source": [
    "type (a)"
   ]
  },
  {
   "cell_type": "code",
   "execution_count": 22,
   "id": "df96895d-d3e5-4eef-9c24-c141e2f509ac",
   "metadata": {},
   "outputs": [
    {
     "data": {
      "text/plain": [
       "90"
      ]
     },
     "execution_count": 22,
     "metadata": {},
     "output_type": "execute_result"
    }
   ],
   "source": [
    "89+1"
   ]
  },
  {
   "cell_type": "code",
   "execution_count": 24,
   "id": "360961ef-dce6-49bf-8fca-b21e27fca7f5",
   "metadata": {},
   "outputs": [
    {
     "data": {
      "text/plain": [
       "(14+16j)"
      ]
     },
     "execution_count": 24,
     "metadata": {},
     "output_type": "execute_result"
    }
   ],
   "source": [
    "a + a"
   ]
  },
  {
   "cell_type": "code",
   "execution_count": 25,
   "id": "bbc6a928-1585-4b58-a38d-15f1c6e38664",
   "metadata": {},
   "outputs": [],
   "source": [
    "n = a+a "
   ]
  },
  {
   "cell_type": "code",
   "execution_count": 26,
   "id": "52b79579-edd2-4226-ac8d-4b38af701b9b",
   "metadata": {},
   "outputs": [
    {
     "data": {
      "text/plain": [
       "(14+16j)"
      ]
     },
     "execution_count": 26,
     "metadata": {},
     "output_type": "execute_result"
    }
   ],
   "source": [
    "n"
   ]
  },
  {
   "cell_type": "code",
   "execution_count": 36,
   "id": "dbda5d62-1736-477e-9d6a-c3e2294dd0b3",
   "metadata": {},
   "outputs": [
    {
     "data": {
      "text/plain": [
       "1"
      ]
     },
     "execution_count": 36,
     "metadata": {},
     "output_type": "execute_result"
    }
   ],
   "source": [
    "a*a"
   ]
  },
  {
   "cell_type": "code",
   "execution_count": 38,
   "id": "136ebad2-e5b2-4d09-b62f-a66f9deb4bf9",
   "metadata": {},
   "outputs": [
    {
     "data": {
      "text/plain": [
       "(1+0j)"
      ]
     },
     "execution_count": 38,
     "metadata": {},
     "output_type": "execute_result"
    }
   ],
   "source": [
    "a/a"
   ]
  },
  {
   "cell_type": "code",
   "execution_count": 39,
   "id": "5c36ad6f-e624-4e40-8667-a528a67c3ede",
   "metadata": {},
   "outputs": [
    {
     "data": {
      "text/plain": [
       "1"
      ]
     },
     "execution_count": 39,
     "metadata": {},
     "output_type": "execute_result"
    }
   ],
   "source": [
    "True-False"
   ]
  },
  {
   "cell_type": "code",
   "execution_count": 42,
   "id": "efb7729f-fecc-4cb8-b9e9-fe78f6e03b15",
   "metadata": {},
   "outputs": [],
   "source": [
    "a = True"
   ]
  },
  {
   "cell_type": "code",
   "execution_count": 43,
   "id": "6fba24b6-9111-4415-a2fb-251272ebd420",
   "metadata": {},
   "outputs": [
    {
     "data": {
      "text/plain": [
       "True"
      ]
     },
     "execution_count": 43,
     "metadata": {},
     "output_type": "execute_result"
    }
   ],
   "source": [
    "a "
   ]
  },
  {
   "cell_type": "code",
   "execution_count": 44,
   "id": "8e0e76fc-2b61-4a43-9d05-323fc5ad871f",
   "metadata": {},
   "outputs": [
    {
     "data": {
      "text/plain": [
       "bool"
      ]
     },
     "execution_count": 44,
     "metadata": {},
     "output_type": "execute_result"
    }
   ],
   "source": [
    "type(a)"
   ]
  },
  {
   "cell_type": "code",
   "execution_count": 45,
   "id": "c7630ffa-610b-4638-ae2f-2388030c34d8",
   "metadata": {},
   "outputs": [
    {
     "data": {
      "text/plain": [
       "-1"
      ]
     },
     "execution_count": 45,
     "metadata": {},
     "output_type": "execute_result"
    }
   ],
   "source": [
    "False-True"
   ]
  },
  {
   "cell_type": "code",
   "execution_count": 46,
   "id": "2c301316-75d0-4b6c-bdb3-7da39e510702",
   "metadata": {},
   "outputs": [
    {
     "data": {
      "text/plain": [
       "0.0"
      ]
     },
     "execution_count": 46,
     "metadata": {},
     "output_type": "execute_result"
    }
   ],
   "source": [
    "False/True"
   ]
  },
  {
   "cell_type": "code",
   "execution_count": 47,
   "id": "87beac9c-34b3-4551-844c-736024b49ca4",
   "metadata": {},
   "outputs": [
    {
     "ename": "ZeroDivisionError",
     "evalue": "division by zero",
     "output_type": "error",
     "traceback": [
      "\u001b[0;31m---------------------------------------------------------------------------\u001b[0m",
      "\u001b[0;31mZeroDivisionError\u001b[0m                         Traceback (most recent call last)",
      "Cell \u001b[0;32mIn[47], line 1\u001b[0m\n\u001b[0;32m----> 1\u001b[0m \u001b[38;5;28;01mTrue\u001b[39;00m\u001b[38;5;241m/\u001b[39m\u001b[38;5;28;01mFalse\u001b[39;00m\n",
      "\u001b[0;31mZeroDivisionError\u001b[0m: division by zero"
     ]
    }
   ],
   "source": [
    "True/False"
   ]
  },
  {
   "cell_type": "code",
   "execution_count": 48,
   "id": "0c9b4ec3-758b-4872-bb89-a04bec3978dc",
   "metadata": {},
   "outputs": [],
   "source": [
    "name = \"Shubham Gaikwad\""
   ]
  },
  {
   "cell_type": "code",
   "execution_count": 49,
   "id": "36277f7f-022b-4a5b-8e0c-592ca5c83d5d",
   "metadata": {},
   "outputs": [
    {
     "data": {
      "text/plain": [
       "'Shubham Gaikwad'"
      ]
     },
     "execution_count": 49,
     "metadata": {},
     "output_type": "execute_result"
    }
   ],
   "source": [
    "name"
   ]
  },
  {
   "cell_type": "code",
   "execution_count": 50,
   "id": "89c02f4a-7d58-4c89-988a-d5d68de4eb49",
   "metadata": {},
   "outputs": [
    {
     "data": {
      "text/plain": [
       "'Shubham '"
      ]
     },
     "execution_count": 50,
     "metadata": {},
     "output_type": "execute_result"
    }
   ],
   "source": [
    "name[0:8]"
   ]
  },
  {
   "cell_type": "code",
   "execution_count": 51,
   "id": "4aa0bce4-6d3b-4cb7-a263-1ca1bef3e727",
   "metadata": {},
   "outputs": [
    {
     "data": {
      "text/plain": [
       "'Shubham Ga'"
      ]
     },
     "execution_count": 51,
     "metadata": {},
     "output_type": "execute_result"
    }
   ],
   "source": [
    "name[0:10]"
   ]
  },
  {
   "cell_type": "code",
   "execution_count": 52,
   "id": "9e0cf176-0c73-4365-9df9-89a2229ff06e",
   "metadata": {},
   "outputs": [
    {
     "data": {
      "text/plain": [
       "'ubham Gaikwad'"
      ]
     },
     "execution_count": 52,
     "metadata": {},
     "output_type": "execute_result"
    }
   ],
   "source": [
    "name[2:90]"
   ]
  },
  {
   "cell_type": "code",
   "execution_count": 55,
   "id": "f9fb827d-5032-475c-a75e-03b124635f02",
   "metadata": {},
   "outputs": [
    {
     "data": {
      "text/plain": [
       "'uhmGiwd'"
      ]
     },
     "execution_count": 55,
     "metadata": {},
     "output_type": "execute_result"
    }
   ],
   "source": [
    "name[2:90:2]"
   ]
  },
  {
   "cell_type": "code",
   "execution_count": 56,
   "id": "cae11b86-583c-4d41-89e2-eaac6ca5d440",
   "metadata": {},
   "outputs": [
    {
     "data": {
      "text/plain": [
       "'SuhmGiwd'"
      ]
     },
     "execution_count": 56,
     "metadata": {},
     "output_type": "execute_result"
    }
   ],
   "source": [
    "name[0:15:2]"
   ]
  },
  {
   "cell_type": "code",
   "execution_count": 62,
   "id": "3b363f99-d54c-4057-ad30-8e9a8e5333ae",
   "metadata": {},
   "outputs": [
    {
     "data": {
      "text/plain": [
       "'Shubh'"
      ]
     },
     "execution_count": 62,
     "metadata": {},
     "output_type": "execute_result"
    }
   ],
   "source": [
    "name[-15:5:1]"
   ]
  },
  {
   "cell_type": "code",
   "execution_count": null,
   "id": "edd88fb5-ab24-4780-be84-6ef9914edde9",
   "metadata": {},
   "outputs": [],
   "source": []
  },
  {
   "cell_type": "code",
   "execution_count": 59,
   "id": "87a4f0be-04c9-4603-b6fb-c38bced30539",
   "metadata": {},
   "outputs": [
    {
     "data": {
      "text/plain": [
       "''"
      ]
     },
     "execution_count": 59,
     "metadata": {},
     "output_type": "execute_result"
    }
   ],
   "source": [
    "name[5:-15]"
   ]
  },
  {
   "cell_type": "code",
   "execution_count": 63,
   "id": "b9845d88-474e-4d0d-acf6-1e5bad35974a",
   "metadata": {},
   "outputs": [],
   "source": [
    "name = \"Shubham Gaikwad\""
   ]
  },
  {
   "cell_type": "code",
   "execution_count": 72,
   "id": "b37b6015-4926-4d7e-b6eb-9db054deedde",
   "metadata": {},
   "outputs": [
    {
     "data": {
      "text/plain": [
       "'dawkiaG mahbuhS'"
      ]
     },
     "execution_count": 72,
     "metadata": {},
     "output_type": "execute_result"
    }
   ],
   "source": [
    "name[14::-1]"
   ]
  },
  {
   "cell_type": "code",
   "execution_count": null,
   "id": "55167026-c2ee-460c-9941-8a3d3ed84841",
   "metadata": {},
   "outputs": [],
   "source": []
  }
 ],
 "metadata": {
  "kernelspec": {
   "display_name": "Python 3 (ipykernel)",
   "language": "python",
   "name": "python3"
  },
  "language_info": {
   "codemirror_mode": {
    "name": "ipython",
    "version": 3
   },
   "file_extension": ".py",
   "mimetype": "text/x-python",
   "name": "python",
   "nbconvert_exporter": "python",
   "pygments_lexer": "ipython3",
   "version": "3.12.4"
  }
 },
 "nbformat": 4,
 "nbformat_minor": 5
}
