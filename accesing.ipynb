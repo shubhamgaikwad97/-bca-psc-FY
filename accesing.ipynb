{
 "cells": [
  {
   "cell_type": "code",
   "execution_count": 9,
   "id": "089efe76-eb53-4da8-8370-a6ad27882c38",
   "metadata": {},
   "outputs": [],
   "source": [
    "l = []"
   ]
  },
  {
   "cell_type": "code",
   "execution_count": 10,
   "id": "ddc9e4ef-1e88-4dff-b829-82dbaa511ffa",
   "metadata": {},
   "outputs": [
    {
     "data": {
      "text/plain": [
       "list"
      ]
     },
     "execution_count": 10,
     "metadata": {},
     "output_type": "execute_result"
    }
   ],
   "source": [
    "type(l)"
   ]
  },
  {
   "cell_type": "code",
   "execution_count": 11,
   "id": "f82f6364-db7e-4fd3-840f-8a16a5ee6b36",
   "metadata": {},
   "outputs": [],
   "source": [
    "a =[]"
   ]
  },
  {
   "cell_type": "code",
   "execution_count": 8,
   "id": "0e5021c8-0140-44a5-ba1c-1f888ce84d44",
   "metadata": {},
   "outputs": [
    {
     "data": {
      "text/plain": [
       "list"
      ]
     },
     "execution_count": 8,
     "metadata": {},
     "output_type": "execute_result"
    }
   ],
   "source": [
    "type(a)"
   ]
  },
  {
   "cell_type": "code",
   "execution_count": 14,
   "id": "58f12e44-8bba-40a5-b226-60e53bc4d3f9",
   "metadata": {},
   "outputs": [],
   "source": [
    "a = [1,67,34, \"Dipti\", 56.7, True, \"Aditi\", ]"
   ]
  },
  {
   "cell_type": "code",
   "execution_count": 15,
   "id": "64c7483d-3b2c-47df-ab2f-943e7c7bb8e4",
   "metadata": {},
   "outputs": [
    {
     "data": {
      "text/plain": [
       "list"
      ]
     },
     "execution_count": 15,
     "metadata": {},
     "output_type": "execute_result"
    }
   ],
   "source": [
    "type (a)"
   ]
  },
  {
   "cell_type": "code",
   "execution_count": 19,
   "id": "817ec8ed-db18-4ef1-bfe8-0c150f1cc881",
   "metadata": {},
   "outputs": [
    {
     "data": {
      "text/plain": [
       "[1, 67, 34, 'Dipti', 56.7, True, 'Aditi']"
      ]
     },
     "execution_count": 19,
     "metadata": {},
     "output_type": "execute_result"
    }
   ],
   "source": [
    "a"
   ]
  },
  {
   "cell_type": "code",
   "execution_count": 20,
   "id": "ab59e5d0-20fa-4df6-8fe7-250ec7c003eb",
   "metadata": {},
   "outputs": [
    {
     "data": {
      "text/plain": [
       "56.7"
      ]
     },
     "execution_count": 20,
     "metadata": {},
     "output_type": "execute_result"
    }
   ],
   "source": [
    "a[4]"
   ]
  },
  {
   "cell_type": "code",
   "execution_count": 21,
   "id": "a33caf6a-236e-4969-82fd-d30f9e7cd691",
   "metadata": {},
   "outputs": [
    {
     "data": {
      "text/plain": [
       "'Dipti'"
      ]
     },
     "execution_count": 21,
     "metadata": {},
     "output_type": "execute_result"
    }
   ],
   "source": [
    "a[-4]"
   ]
  },
  {
   "cell_type": "code",
   "execution_count": 22,
   "id": "e503c741-f6b2-4cf0-aaeb-d4233e1bf07a",
   "metadata": {},
   "outputs": [
    {
     "data": {
      "text/plain": [
       "str"
      ]
     },
     "execution_count": 22,
     "metadata": {},
     "output_type": "execute_result"
    }
   ],
   "source": [
    "type(a[-4])"
   ]
  },
  {
   "cell_type": "code",
   "execution_count": null,
   "id": "efa0bb08-57be-4d9d-8442-a5bb2d743631",
   "metadata": {},
   "outputs": [],
   "source": []
  }
 ],
 "metadata": {
  "kernelspec": {
   "display_name": "Python 3 (ipykernel)",
   "language": "python",
   "name": "python3"
  },
  "language_info": {
   "codemirror_mode": {
    "name": "ipython",
    "version": 3
   },
   "file_extension": ".py",
   "mimetype": "text/x-python",
   "name": "python",
   "nbconvert_exporter": "python",
   "pygments_lexer": "ipython3",
   "version": "3.12.4"
  }
 },
 "nbformat": 4,
 "nbformat_minor": 5
}
