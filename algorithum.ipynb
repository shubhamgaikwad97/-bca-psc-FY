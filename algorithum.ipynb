{
 "cells": [
  {
   "cell_type": "code",
   "execution_count": 5,
   "id": "aa47210d-46a5-4e35-9974-431347eee62d",
   "metadata": {},
   "outputs": [],
   "source": [
    "a= 2"
   ]
  },
  {
   "cell_type": "code",
   "execution_count": 8,
   "id": "0186df89-297e-4b85-8ce4-b05658b031ed",
   "metadata": {},
   "outputs": [
    {
     "name": "stdout",
     "output_type": "stream",
     "text": [
      "2\n"
     ]
    }
   ],
   "source": [
    "##library function or inbuilt function \n",
    "print(a)"
   ]
  },
  {
   "cell_type": "code",
   "execution_count": 15,
   "id": "08b675ce-fabc-4bca-bf16-9685791cfa74",
   "metadata": {},
   "outputs": [
    {
     "name": "stdout",
     "output_type": "stream",
     "text": [
      "Shubham gaikwad\n"
     ]
    }
   ],
   "source": [
    "print(\"Shubham gaikwad\")"
   ]
  },
  {
   "cell_type": "code",
   "execution_count": 17,
   "id": "be45da98-4868-4a00-82fa-ebb0e76a278c",
   "metadata": {},
   "outputs": [],
   "source": [
    "name = \"Shubham gaikwad\""
   ]
  },
  {
   "cell_type": "code",
   "execution_count": 18,
   "id": "37bd17ca-c53f-4363-88e9-7621125f1db2",
   "metadata": {},
   "outputs": [
    {
     "name": "stdout",
     "output_type": "stream",
     "text": [
      "Shubham gaikwad\n"
     ]
    }
   ],
   "source": [
    "print (name)"
   ]
  },
  {
   "cell_type": "code",
   "execution_count": 19,
   "id": "c04eb67d-989a-4d05-96b4-acbc3d0fd40e",
   "metadata": {},
   "outputs": [
    {
     "data": {
      "text/plain": [
       "'Shubham gaikwad'"
      ]
     },
     "execution_count": 19,
     "metadata": {},
     "output_type": "execute_result"
    }
   ],
   "source": [
    "name"
   ]
  },
  {
   "cell_type": "code",
   "execution_count": 20,
   "id": "8cf327ae-938d-4fd9-9dca-8e5f1a321fad",
   "metadata": {},
   "outputs": [],
   "source": [
    "a,b, c = 5,4,7"
   ]
  },
  {
   "cell_type": "code",
   "execution_count": 21,
   "id": "d3269ca1-d32f-47b1-aa73-4be205db4506",
   "metadata": {},
   "outputs": [],
   "source": [
    "a= b= c = 7"
   ]
  },
  {
   "cell_type": "code",
   "execution_count": 22,
   "id": "4f9d93e1-8fc9-44f8-a969-5cb9bb2abfa8",
   "metadata": {},
   "outputs": [
    {
     "name": "stdout",
     "output_type": "stream",
     "text": [
      "7 7 7\n"
     ]
    }
   ],
   "source": [
    "print(a, b, c)"
   ]
  },
  {
   "cell_type": "code",
   "execution_count": 27,
   "id": "2fa2e8fd-ff20-4778-8e46-387b89158a9d",
   "metadata": {},
   "outputs": [
    {
     "data": {
      "text/plain": [
       "(<function print(*args, sep=' ', end='\\n', file=None, flush=False)>, (7, 7, 7))"
      ]
     },
     "execution_count": 27,
     "metadata": {},
     "output_type": "execute_result"
    }
   ],
   "source": [
    "print,(a ,b ,c, )"
   ]
  },
  {
   "cell_type": "code",
   "execution_count": 29,
   "id": "0547e6c1-a4fb-46f5-8a5e-82f9d8145375",
   "metadata": {},
   "outputs": [
    {
     "name": "stdout",
     "output_type": "stream",
     "text": [
      "7,7,7\n"
     ]
    }
   ],
   "source": [
    "print (a,b,c, sep=',')"
   ]
  },
  {
   "cell_type": "code",
   "execution_count": 30,
   "id": "bc854482-fbb2-4fc5-ac0a-f21fa7b8590f",
   "metadata": {},
   "outputs": [
    {
     "name": "stdout",
     "output_type": "stream",
     "text": [
      "45 67 89\n"
     ]
    }
   ],
   "source": [
    "print (45,67,89)"
   ]
  },
  {
   "cell_type": "code",
   "execution_count": 31,
   "id": "5ece7265-1b0d-4f8e-9398-a336ff143c5b",
   "metadata": {},
   "outputs": [
    {
     "name": "stdout",
     "output_type": "stream",
     "text": [
      "45,67,89\n"
     ]
    }
   ],
   "source": [
    "print (45,67,89, sep=',')"
   ]
  },
  {
   "cell_type": "code",
   "execution_count": 36,
   "id": "c10480f2-ec9c-4249-b635-b29135ff8d8a",
   "metadata": {},
   "outputs": [
    {
     "name": "stdout",
     "output_type": "stream",
     "text": [
      "Shivraj gadge\tVaishanavi Sharma\n",
      "Vaishnavi Sharma\n"
     ]
    }
   ],
   "source": [
    "print ('Shivraj gadge' , end='\\t')\n",
    "print(\"Vaishanavi Sharma\")\n",
    "print(\"Vaishnavi Sharma\")"
   ]
  },
  {
   "cell_type": "code",
   "execution_count": 41,
   "id": "c5871ea1-6082-4645-8d42-49946511e155",
   "metadata": {},
   "outputs": [
    {
     "name": "stdout",
     "output_type": "stream",
     "text": [
      "Enter two Nos.\n"
     ]
    },
    {
     "name": "stdin",
     "output_type": "stream",
     "text": [
      "input the value of a 45\n",
      "input the value of b 78\n"
     ]
    },
    {
     "name": "stdout",
     "output_type": "stream",
     "text": [
      "123\n"
     ]
    }
   ],
   "source": [
    "## Write code too add 2 nos.\n",
    "print(\"Enter two Nos.\")\n",
    "a = int(input (\"input the value of a\"))\n",
    "b = int(input(\"input the value of b\"))\n",
    "c = a + b \n",
    "print(c)\n"
   ]
  },
  {
   "cell_type": "code",
   "execution_count": null,
   "id": "b477b89f-1ba1-45e4-b084-5fbf56dc1b5e",
   "metadata": {},
   "outputs": [],
   "source": []
  },
  {
   "cell_type": "code",
   "execution_count": null,
   "id": "4c8e1db0-25c9-491e-872d-aa7d8d36e4c4",
   "metadata": {},
   "outputs": [],
   "source": []
  },
  {
   "cell_type": "code",
   "execution_count": null,
   "id": "da74a2ba-0d25-47b7-b7b0-1b4fcb5b5528",
   "metadata": {},
   "outputs": [],
   "source": []
  }
 ],
 "metadata": {
  "kernelspec": {
   "display_name": "Python 3 (ipykernel)",
   "language": "python",
   "name": "python3"
  },
  "language_info": {
   "codemirror_mode": {
    "name": "ipython",
    "version": 3
   },
   "file_extension": ".py",
   "mimetype": "text/x-python",
   "name": "python",
   "nbconvert_exporter": "python",
   "pygments_lexer": "ipython3",
   "version": "3.12.4"
  }
 },
 "nbformat": 4,
 "nbformat_minor": 5
}
