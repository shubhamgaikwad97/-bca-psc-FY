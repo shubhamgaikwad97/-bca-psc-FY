{
 "cells": [
  {
   "cell_type": "code",
   "execution_count": 45,
   "id": "b2c88b03-746f-42f9-9435-b322d47a0b4c",
   "metadata": {},
   "outputs": [],
   "source": [
    "name =\"Prasanna babar\""
   ]
  },
  {
   "cell_type": "code",
   "execution_count": 46,
   "id": "01c70c99-7255-4688-89bd-7a6c8fbe6a38",
   "metadata": {},
   "outputs": [
    {
     "data": {
      "text/plain": [
       "'Prasanna babar'"
      ]
     },
     "execution_count": 46,
     "metadata": {},
     "output_type": "execute_result"
    }
   ],
   "source": [
    "name"
   ]
  },
  {
   "cell_type": "code",
   "execution_count": 47,
   "id": "71ed7783-8cf7-4d42-9f97-200b4e5ad4cc",
   "metadata": {},
   "outputs": [
    {
     "data": {
      "text/plain": [
       "'n'"
      ]
     },
     "execution_count": 47,
     "metadata": {},
     "output_type": "execute_result"
    }
   ],
   "source": [
    "name [6]"
   ]
  },
  {
   "cell_type": "code",
   "execution_count": 48,
   "id": "e8f9a291-3896-4cae-ab09-32e899bae136",
   "metadata": {},
   "outputs": [],
   "source": [
    "# Slicing Opeation"
   ]
  },
  {
   "cell_type": "code",
   "execution_count": 49,
   "id": "209decde-38f0-4867-9974-e76ab9d6a829",
   "metadata": {},
   "outputs": [
    {
     "data": {
      "text/plain": [
       "' annas'"
      ]
     },
     "execution_count": 49,
     "metadata": {},
     "output_type": "execute_result"
    }
   ],
   "source": [
    "name[-6:2:-1]"
   ]
  },
  {
   "cell_type": "code",
   "execution_count": 50,
   "id": "ad0692c8-7281-4cdd-bd19-fcf8dd8915be",
   "metadata": {},
   "outputs": [
    {
     "data": {
      "text/plain": [
       "''"
      ]
     },
     "execution_count": 50,
     "metadata": {},
     "output_type": "execute_result"
    }
   ],
   "source": [
    "name[-5:3:1]"
   ]
  },
  {
   "cell_type": "code",
   "execution_count": 51,
   "id": "979468e3-0291-42ee-bcd5-5b9b24774d7b",
   "metadata": {},
   "outputs": [
    {
     "data": {
      "text/plain": [
       "''"
      ]
     },
     "execution_count": 51,
     "metadata": {},
     "output_type": "execute_result"
    }
   ],
   "source": [
    "name[-5:10:-1]"
   ]
  },
  {
   "cell_type": "code",
   "execution_count": 52,
   "id": "a9c3edd0-30d1-4e4f-9afe-f8eecd8340b9",
   "metadata": {},
   "outputs": [
    {
     "data": {
      "text/plain": [
       "'na ba'"
      ]
     },
     "execution_count": 52,
     "metadata": {},
     "output_type": "execute_result"
    }
   ],
   "source": [
    "name[-8:11]"
   ]
  },
  {
   "cell_type": "code",
   "execution_count": 53,
   "id": "c8c8333a-2fbe-4470-a9fc-ddc6f16445bd",
   "metadata": {},
   "outputs": [
    {
     "data": {
      "text/plain": [
       "'r'"
      ]
     },
     "execution_count": 53,
     "metadata": {},
     "output_type": "execute_result"
    }
   ],
   "source": [
    "name[13]"
   ]
  },
  {
   "cell_type": "code",
   "execution_count": 54,
   "id": "66abbacf-b2be-4d7c-9e76-bdc707717aba",
   "metadata": {},
   "outputs": [
    {
     "data": {
      "text/plain": [
       "'na bab'"
      ]
     },
     "execution_count": 54,
     "metadata": {},
     "output_type": "execute_result"
    }
   ],
   "source": [
    "name[6:-2]"
   ]
  },
  {
   "cell_type": "code",
   "execution_count": 55,
   "id": "873c7dcd-685a-4ab0-9ef1-cffa439c4eef",
   "metadata": {},
   "outputs": [
    {
     "data": {
      "text/plain": [
       "'raaar'"
      ]
     },
     "execution_count": 55,
     "metadata": {},
     "output_type": "execute_result"
    }
   ],
   "source": [
    "name[13:-14:-3]"
   ]
  },
  {
   "cell_type": "code",
   "execution_count": 56,
   "id": "f8cfa88c-5312-48e0-9ea4-6ebf90297e80",
   "metadata": {},
   "outputs": [
    {
     "data": {
      "text/plain": [
       "'na'"
      ]
     },
     "execution_count": 56,
     "metadata": {},
     "output_type": "execute_result"
    }
   ],
   "source": [
    "name[-8:8]"
   ]
  },
  {
   "cell_type": "code",
   "execution_count": 57,
   "id": "80cf40d5-5c97-4050-898d-faed74de4db2",
   "metadata": {},
   "outputs": [
    {
     "data": {
      "text/plain": [
       "''"
      ]
     },
     "execution_count": 57,
     "metadata": {},
     "output_type": "execute_result"
    }
   ],
   "source": [
    "name[-9:0:1]"
   ]
  },
  {
   "cell_type": "code",
   "execution_count": 58,
   "id": "01de39d5-fa09-4d12-a3af-a4109a38ba0e",
   "metadata": {},
   "outputs": [
    {
     "data": {
      "text/plain": [
       "''"
      ]
     },
     "execution_count": 58,
     "metadata": {},
     "output_type": "execute_result"
    }
   ],
   "source": [
    "name[13:1:]"
   ]
  },
  {
   "cell_type": "code",
   "execution_count": 60,
   "id": "97a78b39-0c45-44b4-8d56-8cb98b3ff2fb",
   "metadata": {},
   "outputs": [
    {
     "data": {
      "text/plain": [
       "'rabab annasarP'"
      ]
     },
     "execution_count": 60,
     "metadata": {},
     "output_type": "execute_result"
    }
   ],
   "source": [
    "name[-1: :-1]"
   ]
  },
  {
   "cell_type": "code",
   "execution_count": 78,
   "id": "1a3c1415-e87f-41d0-8e2d-83826e818aa5",
   "metadata": {},
   "outputs": [],
   "source": [
    "name1 = \"Vaishnavi sharma\""
   ]
  },
  {
   "cell_type": "code",
   "execution_count": 79,
   "id": "4c334d63-33cb-4cfc-8b44-35f6ba233529",
   "metadata": {},
   "outputs": [
    {
     "data": {
      "text/plain": [
       "'Vaishnavi sharma'"
      ]
     },
     "execution_count": 79,
     "metadata": {},
     "output_type": "execute_result"
    }
   ],
   "source": [
    "name1"
   ]
  },
  {
   "cell_type": "code",
   "execution_count": 80,
   "id": "edd6be07-7f61-46a4-8546-e1a220a87685",
   "metadata": {},
   "outputs": [
    {
     "data": {
      "text/plain": [
       "'Vaishnavi sharma1511'"
      ]
     },
     "execution_count": 80,
     "metadata": {},
     "output_type": "execute_result"
    }
   ],
   "source": [
    "name1+str(1511)"
   ]
  },
  {
   "cell_type": "code",
   "execution_count": 81,
   "id": "5b636bf7-5bf0-40df-b060-5257638e2987",
   "metadata": {},
   "outputs": [
    {
     "data": {
      "text/plain": [
       "16"
      ]
     },
     "execution_count": 81,
     "metadata": {},
     "output_type": "execute_result"
    }
   ],
   "source": [
    "len(name1)"
   ]
  },
  {
   "cell_type": "code",
   "execution_count": 82,
   "id": "b8990414-aee5-4909-8161-484d2e5e1708",
   "metadata": {},
   "outputs": [
    {
     "data": {
      "text/plain": [
       "'Vaishnavi sharmaVaishnavi sharmaVaishnavi sharmaVaishnavi sharma'"
      ]
     },
     "execution_count": 82,
     "metadata": {},
     "output_type": "execute_result"
    }
   ],
   "source": [
    "name1*4"
   ]
  },
  {
   "cell_type": "code",
   "execution_count": 83,
   "id": "78e5e264-3b97-48b1-844f-3b78f678a0f6",
   "metadata": {},
   "outputs": [
    {
     "data": {
      "text/plain": [
       "2"
      ]
     },
     "execution_count": 83,
     "metadata": {},
     "output_type": "execute_result"
    }
   ],
   "source": [
    "name.count('i')"
   ]
  },
  {
   "cell_type": "code",
   "execution_count": 84,
   "id": "e08e5925-7e0b-4d7c-b749-8157b35c1ab9",
   "metadata": {},
   "outputs": [
    {
     "data": {
      "text/plain": [
       "['Va', 'shnav', ' sharma']"
      ]
     },
     "execution_count": 84,
     "metadata": {},
     "output_type": "execute_result"
    }
   ],
   "source": [
    "name1.split('i')"
   ]
  },
  {
   "cell_type": "code",
   "execution_count": 85,
   "id": "2a5372a4-f1a7-4379-b419-9b7a60513c52",
   "metadata": {},
   "outputs": [
    {
     "data": {
      "text/plain": [
       "list"
      ]
     },
     "execution_count": 85,
     "metadata": {},
     "output_type": "execute_result"
    }
   ],
   "source": [
    "type(name.split(\"i\"))"
   ]
  },
  {
   "cell_type": "code",
   "execution_count": 89,
   "id": "c65ecf02-ca58-4c97-89ef-94ab78b68aed",
   "metadata": {},
   "outputs": [],
   "source": [
    "name3 = \"Lorem Ipsum is simply dummy text of the printing and typesetting industry. Lorem Ipsum has been the industry's standard dummy text ever since the 1500s, when an unknown printer took a galley of type and scrambled it to make a type specimen book. It has survived not only five centuries, but also the leap into electronic typesetting, remaining essentially unchanged. It was popularised in the 1960s with the release of Letraset sheets containing Lorem Ipsum passages, and more recently with desktop publishing software like Aldus PageMaker including versions of Lorem Ipsum.\""
   ]
  },
  {
   "cell_type": "code",
   "execution_count": 90,
   "id": "596d258a-a8c8-4517-b040-f5bd6988aac9",
   "metadata": {},
   "outputs": [
    {
     "data": {
      "text/plain": [
       "['Lorem',\n",
       " 'Ipsum',\n",
       " 'is',\n",
       " 'simply',\n",
       " 'dummy',\n",
       " 'text',\n",
       " 'of',\n",
       " 'the',\n",
       " 'printing',\n",
       " 'and',\n",
       " 'typesetting',\n",
       " 'industry.',\n",
       " 'Lorem',\n",
       " 'Ipsum',\n",
       " 'has',\n",
       " 'been',\n",
       " 'the',\n",
       " \"industry's\",\n",
       " 'standard',\n",
       " 'dummy',\n",
       " 'text',\n",
       " 'ever',\n",
       " 'since',\n",
       " 'the',\n",
       " '1500s,',\n",
       " 'when',\n",
       " 'an',\n",
       " 'unknown',\n",
       " 'printer',\n",
       " 'took',\n",
       " 'a',\n",
       " 'galley',\n",
       " 'of',\n",
       " 'type',\n",
       " 'and',\n",
       " 'scrambled',\n",
       " 'it',\n",
       " 'to',\n",
       " 'make',\n",
       " 'a',\n",
       " 'type',\n",
       " 'specimen',\n",
       " 'book.',\n",
       " 'It',\n",
       " 'has',\n",
       " 'survived',\n",
       " 'not',\n",
       " 'only',\n",
       " 'five',\n",
       " 'centuries,',\n",
       " 'but',\n",
       " 'also',\n",
       " 'the',\n",
       " 'leap',\n",
       " 'into',\n",
       " 'electronic',\n",
       " 'typesetting,',\n",
       " 'remaining',\n",
       " 'essentially',\n",
       " 'unchanged.',\n",
       " 'It',\n",
       " 'was',\n",
       " 'popularised',\n",
       " 'in',\n",
       " 'the',\n",
       " '1960s',\n",
       " 'with',\n",
       " 'the',\n",
       " 'release',\n",
       " 'of',\n",
       " 'Letraset',\n",
       " 'sheets',\n",
       " 'containing',\n",
       " 'Lorem',\n",
       " 'Ipsum',\n",
       " 'passages,',\n",
       " 'and',\n",
       " 'more',\n",
       " 'recently',\n",
       " 'with',\n",
       " 'desktop',\n",
       " 'publishing',\n",
       " 'software',\n",
       " 'like',\n",
       " 'Aldus',\n",
       " 'PageMaker',\n",
       " 'including',\n",
       " 'versions',\n",
       " 'of',\n",
       " 'Lorem',\n",
       " 'Ipsum.']"
      ]
     },
     "execution_count": 90,
     "metadata": {},
     "output_type": "execute_result"
    }
   ],
   "source": [
    "name3.split(\" \")"
   ]
  },
  {
   "cell_type": "code",
   "execution_count": null,
   "id": "a8acf733-c19d-46cc-bb27-5c2945d182d6",
   "metadata": {},
   "outputs": [],
   "source": []
  }
 ],
 "metadata": {
  "kernelspec": {
   "display_name": "Python 3 (ipykernel)",
   "language": "python",
   "name": "python3"
  },
  "language_info": {
   "codemirror_mode": {
    "name": "ipython",
    "version": 3
   },
   "file_extension": ".py",
   "mimetype": "text/x-python",
   "name": "python",
   "nbconvert_exporter": "python",
   "pygments_lexer": "ipython3",
   "version": "3.12.4"
  }
 },
 "nbformat": 4,
 "nbformat_minor": 5
}
