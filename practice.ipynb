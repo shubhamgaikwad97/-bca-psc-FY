{
 "cells": [
  {
   "cell_type": "code",
   "execution_count": 1,
   "id": "5af9856f-e2ab-436a-852a-06d2876968c4",
   "metadata": {},
   "outputs": [],
   "source": [
    "s = \"this is My First Python programming class and i am learNING python string and its function\" "
   ]
  },
  {
   "cell_type": "markdown",
   "id": "3bc4a654-4892-4588-95a6-5925cd7031cb",
   "metadata": {},
   "source": [
    "# 1 . Try to extract data from index one to index 300 with a jump of 3     "
   ]
  },
  {
   "cell_type": "code",
   "execution_count": 14,
   "id": "f7570101-303c-4350-9fda-46191e1193ee",
   "metadata": {},
   "outputs": [
    {
     "data": {
      "text/plain": [
       "'h   r tnrrmglsnimeNGyosi dtfco'"
      ]
     },
     "execution_count": 14,
     "metadata": {},
     "output_type": "execute_result"
    }
   ],
   "source": [
    "s[1:301:3]"
   ]
  },
  {
   "cell_type": "markdown",
   "id": "ff9bc60f-7746-43c8-96bd-c2409057977f",
   "metadata": {},
   "source": [
    "# 2. Try to reverse a string without using reverse function"
   ]
  },
  {
   "cell_type": "code",
   "execution_count": 6,
   "id": "a924af1f-6168-4b1d-a4fe-7973a2978654",
   "metadata": {},
   "outputs": [
    {
     "data": {
      "text/plain": [
       "'noitcnuf sti dna gnirts nohtyp GNINrael ma i dna ssalc gnimmargorp nohtyP tsriF yM si siht'"
      ]
     },
     "execution_count": 6,
     "metadata": {},
     "output_type": "execute_result"
    }
   ],
   "source": [
    "s[::-1]"
   ]
  },
  {
   "cell_type": "markdown",
   "id": "58e53edf-c4ec-43ba-bad8-db73674dab24",
   "metadata": {},
   "source": [
    "# 3. Try to split a string after conversion of entire string in uppercase"
   ]
  },
  {
   "cell_type": "code",
   "execution_count": 10,
   "id": "b9d70c6f-5d4b-4fc8-a806-e7138b119d0b",
   "metadata": {},
   "outputs": [
    {
     "data": {
      "text/plain": [
       "['THIS',\n",
       " 'IS',\n",
       " 'MY',\n",
       " 'FIRST',\n",
       " 'PYTHON',\n",
       " 'PROGRAMMING',\n",
       " 'CLASS',\n",
       " 'AND',\n",
       " 'I',\n",
       " 'AM',\n",
       " 'LEARNING',\n",
       " 'PYTHON',\n",
       " 'STRING',\n",
       " 'AND',\n",
       " 'ITS',\n",
       " 'FUNCTION']"
      ]
     },
     "execution_count": 10,
     "metadata": {},
     "output_type": "execute_result"
    }
   ],
   "source": [
    "s.upper() .split()"
   ]
  },
  {
   "cell_type": "markdown",
   "id": "7b5f5aa5-1414-413a-9dde-c2c8cb5da643",
   "metadata": {},
   "source": [
    "# 4. try to convert the whole string into lower case"
   ]
  },
  {
   "cell_type": "code",
   "execution_count": 11,
   "id": "b35e7764-7d20-405c-8577-0a7e484ee3a8",
   "metadata": {},
   "outputs": [
    {
     "data": {
      "text/plain": [
       "'this is my first python programming class and i am learning python string and its function'"
      ]
     },
     "execution_count": 11,
     "metadata": {},
     "output_type": "execute_result"
    }
   ],
   "source": [
    "s.lower()"
   ]
  },
  {
   "cell_type": "markdown",
   "id": "f18aa3e8-e7f3-4b29-a8fb-e1bf4c3ca7c4",
   "metadata": {},
   "source": [
    "# 5 . Try to capitalize the whole string "
   ]
  },
  {
   "cell_type": "code",
   "execution_count": 13,
   "id": "2bcdbc20-78e2-4464-9829-1766f4f54879",
   "metadata": {},
   "outputs": [
    {
     "data": {
      "text/plain": [
       "'THIS IS MY FIRST PYTHON PROGRAMMING CLASS AND I AM LEARNING PYTHON STRING AND ITS FUNCTION'"
      ]
     },
     "execution_count": 13,
     "metadata": {},
     "output_type": "execute_result"
    }
   ],
   "source": [
    "s.upper()"
   ]
  },
  {
   "cell_type": "markdown",
   "id": "18a7a675-83ff-4644-9598-133ddea6643a",
   "metadata": {},
   "source": [
    "# 6 . Write a diference between isalnum() and isalpha() "
   ]
  },
  {
   "cell_type": "code",
   "execution_count": 22,
   "id": "d6e2231c-7cef-4bda-9de7-cd83e94fabc3",
   "metadata": {},
   "outputs": [
    {
     "data": {
      "text/plain": [
       "False"
      ]
     },
     "execution_count": 22,
     "metadata": {},
     "output_type": "execute_result"
    }
   ],
   "source": [
    "s.isalnum()"
   ]
  },
  {
   "cell_type": "code",
   "execution_count": 24,
   "id": "150b8ebe-3338-4791-aff3-689c2792b522",
   "metadata": {},
   "outputs": [
    {
     "data": {
      "text/plain": [
       "False"
      ]
     },
     "execution_count": 24,
     "metadata": {},
     "output_type": "execute_result"
    }
   ],
   "source": [
    "s.isalpha()"
   ]
  },
  {
   "cell_type": "code",
   "execution_count": null,
   "id": "67ab865c-1630-46f7-8387-08fece11113c",
   "metadata": {},
   "outputs": [],
   "source": []
  }
 ],
 "metadata": {
  "kernelspec": {
   "display_name": "Python 3 (ipykernel)",
   "language": "python",
   "name": "python3"
  },
  "language_info": {
   "codemirror_mode": {
    "name": "ipython",
    "version": 3
   },
   "file_extension": ".py",
   "mimetype": "text/x-python",
   "name": "python",
   "nbconvert_exporter": "python",
   "pygments_lexer": "ipython3",
   "version": "3.12.4"
  }
 },
 "nbformat": 4,
 "nbformat_minor": 5
}
